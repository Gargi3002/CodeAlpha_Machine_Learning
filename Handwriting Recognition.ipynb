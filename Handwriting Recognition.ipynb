{
 "cells": [
  {
   "cell_type": "code",
   "execution_count": 3,
   "id": "3ce363f2-6c7b-426f-b149-0344a42ab16e",
   "metadata": {},
   "outputs": [],
   "source": [
    "import numpy as np\n",
    "import matplotlib.pyplot as plt\n",
    "from sklearn.datasets import fetch_openml\n",
    "from sklearn.model_selection import train_test_split\n",
    "from sklearn.ensemble import RandomForestClassifier\n",
    "from sklearn.metrics import accuracy_score,classification_report,confusion_matrix\n"
   ]
  },
  {
   "cell_type": "code",
   "execution_count": 4,
   "id": "77506303-1751-49b7-aed8-ab61617d7b86",
   "metadata": {},
   "outputs": [],
   "source": [
    "mist = fetch_openml('mnist_784',version=1,as_frame=False)"
   ]
  },
  {
   "cell_type": "code",
   "execution_count": 6,
   "id": "cc9b003c-058e-48a5-a341-332ba507638e",
   "metadata": {},
   "outputs": [
    {
     "name": "stdout",
     "output_type": "stream",
     "text": [
      "Shape of X: (70000, 784)\n",
      "Shape of y:(70000,)\n"
     ]
    }
   ],
   "source": [
    "X,y=mist.data,mist.target\n",
    "print(f\"Shape of X: {X.shape}\")\n",
    "print(f\"Shape of y:{y.shape}\")"
   ]
  },
  {
   "cell_type": "code",
   "execution_count": 7,
   "id": "52bc38c7-9cc3-4fe7-8984-55a180794fc3",
   "metadata": {},
   "outputs": [
    {
     "data": {
      "image/png": "[encoded data removed]",
      "text/plain": [
       "<Figure size 1200x500 with 6 Axes>"
      ]
     },
     "metadata": {},
     "output_type": "display_data"
    }
   ],
   "source": [
    "fig, axes = plt.subplots(1, 6, figsize=(12, 5))\n",
    "for i, ax in enumerate(axes):\n",
    "    ax.imshow(X[i].reshape(28, 28), cmap='gray')\n",
    "    ax.axis('off')\n",
    "    ax.set_title(f\"Label: {y[i]}\")\n",
    "plt.show()"
   ]
  },
  {
   "cell_type": "code",
   "execution_count": 8,
   "id": "553b3860-7183-4f2e-ad0f-3827e055ddb1",
   "metadata": {},
   "outputs": [
    {
     "name": "stdout",
     "output_type": "stream",
     "text": [
      "Training set size: (56000, 784)\n",
      "Test set size: (14000, 784)\n"
     ]
    }
   ],
   "source": [
    "X_train, X_test, y_train, y_test = train_test_split(X, y, test_size=0.2, random_state=42)\n",
    "\n",
    "print(f\"Training set size: {X_train.shape}\")\n",
    "print(f\"Test set size: {X_test.shape}\")"
   ]
  },
  {
   "cell_type": "code",
   "execution_count": 9,
   "id": "aca0e778-f9f5-41fb-aff7-04d6e6baf6ff",
   "metadata": {},
   "outputs": [
    {
     "name": "stdout",
     "output_type": "stream",
     "text": [
      "Model training complete.\n"
     ]
    }
   ],
   "source": [
    "model = RandomForestClassifier(n_estimators=100, random_state=42)\n",
    "\n",
    "model.fit(X_train, y_train)\n",
    "\n",
    "print(\"Model training is completed.\")"
   ]
  },
  {
   "cell_type": "code",
   "execution_count": 10,
   "id": "7dd8084f-6fdf-437e-bb7a-f89adda19b21",
   "metadata": {},
   "outputs": [
    {
     "name": "stdout",
     "output_type": "stream",
     "text": [
      "Accuracy: 96.73%\n"
     ]
    }
   ],
   "source": [
    "y_pred = model.predict(X_test)\n",
    "accuracy = accuracy_score(y_test, y_pred)\n",
    "print(f\"Accuracy: {accuracy * 100:.2f}%\")"
   ]
  },
  {
   "cell_type": "code",
   "execution_count": 11,
   "id": "db863d04-3d80-4994-a62a-f394e126c473",
   "metadata": {},
   "outputs": [
    {
     "name": "stdout",
     "output_type": "stream",
     "text": [
      "Classification Report:\n",
      "               precision    recall  f1-score   support\n",
      "\n",
      "           0       0.98      0.99      0.99      1343\n",
      "           1       0.98      0.98      0.98      1600\n",
      "           2       0.95      0.97      0.96      1380\n",
      "           3       0.96      0.95      0.96      1433\n",
      "           4       0.96      0.97      0.97      1295\n",
      "           5       0.97      0.96      0.97      1273\n",
      "           6       0.98      0.98      0.98      1396\n",
      "           7       0.97      0.97      0.97      1503\n",
      "           8       0.96      0.95      0.96      1357\n",
      "           9       0.96      0.95      0.95      1420\n",
      "\n",
      "    accuracy                           0.97     14000\n",
      "   macro avg       0.97      0.97      0.97     14000\n",
      "weighted avg       0.97      0.97      0.97     14000\n",
      "\n",
      "Confusion Matrix:\n",
      " [[1325    0    4    0    1    1    3    1    6    2]\n",
      " [   0 1573    6    8    2    0    0    6    3    2]\n",
      " [   4    5 1334    4    5    1    9    8    8    2]\n",
      " [   1    0   23 1366    0    9    0   14   12    8]\n",
      " [   4    1    3    0 1257    0    2    3    3   22]\n",
      " [   1    3    3   17    4 1226    8    1    8    2]\n",
      " [   4    1    0    0    6   10 1372    0    3    0]\n",
      " [   3    5   15    0    7    1    0 1455    2   15]\n",
      " [   1    6    9   15    6   11    5    7 1290    7]\n",
      " [   4    6    5   16   20    5    1   10    9 1344]]\n"
     ]
    }
   ],
   "source": [
    "print(\"Classification Report:\\n\", classification_report(y_test, y_pred))\n",
    "print(\"Confusion Matrix:\\n\", confusion_matrix(y_test, y_pred))"
   ]
  },
  {
   "cell_type": "code",
   "execution_count": 13,
   "id": "776f1e2b-930d-4abc-923d-cdc94bc51590",
   "metadata": {},
   "outputs": [
    {
     "name": "stdout",
     "output_type": "stream",
     "text": [
      "Model saved \n",
      "Model Loaded\n"
     ]
    }
   ],
   "source": [
    "import joblib\n",
    "joblib.dump(model, \"mnist_model.pkl\")\n",
    "print(\"Model saved \")\n",
    "loaded_model = joblib.load(\"mnist_model.pkl\")\n",
    "print(\"Model Loaded\")"
   ]
  },
  {
   "cell_type": "code",
   "execution_count": 15,
   "id": "ca543e2d-14f4-4ede-8dbb-4bd2ee465ee0",
   "metadata": {},
   "outputs": [
    {
     "name": "stdout",
     "output_type": "stream",
     "text": [
      "Loaded Model Accuracy:96.73%\n"
     ]
    }
   ],
   "source": [
    "y_loaded_pred=loaded_model.predict(X_test)\n",
    "loaded_acuracy=accuracy_score(y_test,y_loaded_pred)\n",
    "print(f\"Loaded Model Accuracy:{loaded_acuracy*100:.2f}%\")"
   ]
  },
  {
   "cell_type": "code",
   "execution_count": null,
   "id": "bd8b0c9d-a1eb-455c-aa1d-a34c456517d5",
   "metadata": {},
   "outputs": [],
   "source": []
  }
 ],
 "metadata": {
  "kernelspec": {
   "display_name": "Python 3 (ipykernel)",
   "language": "python",
   "name": "python3"
  },
  "language_info": {
   "codemirror_mode": {
    "name": "ipython",
    "version": 3
   },
   "file_extension": ".py",
   "mimetype": "text/x-python",
   "name": "python",
   "nbconvert_exporter": "python",
   "pygments_lexer": "ipython3",
   "version": "3.12.7"
  }
 },
 "nbformat": 4,
 "nbformat_minor": 5
}
